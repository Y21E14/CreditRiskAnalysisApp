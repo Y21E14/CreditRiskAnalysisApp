{
 "cells": [
  {
   "cell_type": "code",
   "execution_count": null,
   "metadata": {},
   "outputs": [],
   "source": [
    "#to see graph with green, yellow and blue dots \n",
    "\n",
    "import matplotlib.pyplot as plt\n",
    "import numpy as np\n",
    "\n",
    "# Step 1: Select SHAP values for the correct class (adjust index as needed)\n",
    "selected_class_index = 1  # Adjust as needed for your use case\n",
    "shap_values_selected_class = shap_values.values[:, :, selected_class_index]\n",
    "\n",
    "# Step 2: Select a subset of features for visualization (e.g., 3 features)\n",
    "features_to_plot = [\"Total Asset\", \"Market Value - Total - Fiscal\", \"Cash\"]\n",
    "\n",
    "# Step 3: Create the plot\n",
    "plt.figure(figsize=(12, 8))\n",
    "colors = ['blue', 'green', 'orange']  # Define different colors for each feature\n",
    "\n",
    "for i, feature in enumerate(features_to_plot):\n",
    "    plt.scatter(\n",
    "        X_test[feature],  # X-axis: feature values\n",
    "        shap_values_selected_class[:, i],  # Y-axis: SHAP values\n",
    "        alpha=0.6,\n",
    "        label=feature,  # Label for the legend\n",
    "        color=colors[i]\n",
    "    )\n",
    "\n",
    "# Step 4: Customize the plot\n",
    "plt.title(\"Dependence Plot for Multiple Features\")\n",
    "plt.xlabel(\"Feature Values\")\n",
    "plt.ylabel(\"SHAP Values\")\n",
    "plt.legend()\n",
    "plt.show()"
   ]
  },
  {
   "cell_type": "code",
   "execution_count": null,
   "metadata": {},
   "outputs": [],
   "source": [
    "#to see individual dependence plot but all features\n",
    "\n",
    "import shap\n",
    "import matplotlib.pyplot as plt\n",
    "\n",
    "# Step 1: Select SHAP values for a specific class\n",
    "selected_class_index = 1  # Choose the appropriate class (0, 1, or 2)\n",
    "shap_values_selected_class = shap_values.values[:, :, selected_class_index]\n",
    "\n",
    "# Step 2: Loop through all features in X_test and generate plots\n",
    "for feature in X_test.columns:\n",
    "    plt.figure(figsize=(12, 6))\n",
    "    shap.dependence_plot(feature, shap_values_selected_class, X_test)\n",
    "    plt.title(f\"Dependence Plot - {feature}\")\n",
    "    plt.show()\n"
   ]
  },
  {
   "cell_type": "code",
   "execution_count": null,
   "metadata": {},
   "outputs": [],
   "source": [
    "#to see individual dependence plot but only total asset\n",
    "\n",
    "import shap\n",
    "import matplotlib.pyplot as plt\n",
    "\n",
    "# Step 1: Select SHAP values for a specific class (adjust the index as needed)\n",
    "selected_class_index = 1  # Select the class (0, 1, or 2 based on your use case)\n",
    "shap_values_selected_class = shap_values.values[:, :, selected_class_index]\n",
    "\n",
    "# Step 2: Generate the Partial Dependence Plot\n",
    "plt.figure(figsize=(12, 6))\n",
    "shap.dependence_plot(\"Total Asset\", shap_values_selected_class, X_test, show=False)\n",
    "plt.title(\"Partial Dependence Plot - Total Asset\")\n",
    "plt.show()"
   ]
  },
  {
   "cell_type": "code",
   "execution_count": null,
   "metadata": {},
   "outputs": [],
   "source": [
    "#to see shap interation value - globally\n",
    "\n",
    "import shap \n",
    "\n",
    "\n",
    "\n",
    "# Step 1: Ensure X_test is correctly formatted as a DataFrame\n",
    "X_test = pd.DataFrame(X_test)  # Ensure it's a DataFrame if needed\n",
    "\n",
    "# Step 2: Initialize the SHAP explainer and get the global SHAP explanation object\n",
    "explainer = shap.Explainer(model, X_train)  # Recreate explainer with the correct training data\n",
    "shap_values_global = explainer(X_test)\n",
    "\n",
    "# Step 3: Generate the summary plot using the SHAP values directly\n",
    "shap.summary_plot(shap_values_global.values, X_test, feature_names=X_test.columns)"
   ]
  },
  {
   "cell_type": "code",
   "execution_count": null,
   "metadata": {},
   "outputs": [],
   "source": []
  }
 ],
 "metadata": {
  "kernelspec": {
   "display_name": "base",
   "language": "python",
   "name": "python3"
  },
  "language_info": {
   "name": "python",
   "version": "3.12.7"
  }
 },
 "nbformat": 4,
 "nbformat_minor": 2
}
